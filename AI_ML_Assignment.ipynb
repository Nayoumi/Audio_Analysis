{
  "nbformat": 4,
  "nbformat_minor": 0,
  "metadata": {
    "colab": {
      "name": "AI/ML_Assignment",
      "provenance": [],
      "authorship_tag": "ABX9TyOQLdOo3E5K3OFuIN05hUYV",
      "include_colab_link": true
    },
    "kernelspec": {
      "name": "python3",
      "display_name": "Python 3"
    },
    "language_info": {
      "name": "python"
    }
  },
  "cells": [
    {
      "cell_type": "markdown",
      "metadata": {
        "id": "view-in-github",
        "colab_type": "text"
      },
      "source": [
        "<a href=\"https://colab.research.google.com/github/Nayoumi/Audio_Analysis/blob/main/AI_ML_Assignment.ipynb\" target=\"_parent\"><img src=\"https://colab.research.google.com/assets/colab-badge.svg\" alt=\"Open In Colab\"/></a>"
      ]
    },
    {
      "cell_type": "code",
      "execution_count": 273,
      "metadata": {
        "id": "TKyOAous5NYA"
      },
      "outputs": [],
      "source": [
        "# importing libraries\n",
        "import pandas as pd\n",
        "import numpy as np\n",
        "from sklearn.preprocessing import LabelEncoder\n",
        "from sklearn.tree import DecisionTreeClassifier\n",
        "from sklearn.ensemble import RandomForestClassifier\n",
        "from sklearn.model_selection import train_test_split\n",
        "from sklearn.metrics import accuracy_score, confusion_matrix"
      ]
    },
    {
      "cell_type": "code",
      "source": [
        "#reading the data from csv file\n",
        "twitter_data = pd.read_csv(r\"/content/Tweets.csv\")"
      ],
      "metadata": {
        "id": "88r8iE3L5gIr"
      },
      "execution_count": 274,
      "outputs": []
    },
    {
      "cell_type": "code",
      "source": [
        "#displaying rows and columns 1st five\n",
        "twitter_data.head()"
      ],
      "metadata": {
        "colab": {
          "base_uri": "https://localhost:8080/",
          "height": 496
        },
        "id": "S7Bl6gLX5oAO",
        "outputId": "4ae74c9a-6d50-4271-8a63-91afe4c050ae"
      },
      "execution_count": 275,
      "outputs": [
        {
          "output_type": "execute_result",
          "data": {
            "text/html": [
              "\n",
              "  <div id=\"df-1148edbe-979b-427c-b1e1-fca779eec1fb\">\n",
              "    <div class=\"colab-df-container\">\n",
              "      <div>\n",
              "<style scoped>\n",
              "    .dataframe tbody tr th:only-of-type {\n",
              "        vertical-align: middle;\n",
              "    }\n",
              "\n",
              "    .dataframe tbody tr th {\n",
              "        vertical-align: top;\n",
              "    }\n",
              "\n",
              "    .dataframe thead th {\n",
              "        text-align: right;\n",
              "    }\n",
              "</style>\n",
              "<table border=\"1\" class=\"dataframe\">\n",
              "  <thead>\n",
              "    <tr style=\"text-align: right;\">\n",
              "      <th></th>\n",
              "      <th>tweet_id</th>\n",
              "      <th>airline_sentiment</th>\n",
              "      <th>airline_sentiment_confidence</th>\n",
              "      <th>negativereason</th>\n",
              "      <th>negativereason_confidence</th>\n",
              "      <th>airline</th>\n",
              "      <th>airline_sentiment_gold</th>\n",
              "      <th>name</th>\n",
              "      <th>negativereason_gold</th>\n",
              "      <th>retweet_count</th>\n",
              "      <th>text</th>\n",
              "      <th>tweet_coord</th>\n",
              "      <th>tweet_created</th>\n",
              "      <th>tweet_location</th>\n",
              "      <th>user_timezone</th>\n",
              "    </tr>\n",
              "  </thead>\n",
              "  <tbody>\n",
              "    <tr>\n",
              "      <th>0</th>\n",
              "      <td>570306133677760000</td>\n",
              "      <td>neutral</td>\n",
              "      <td>1.0000</td>\n",
              "      <td>NaN</td>\n",
              "      <td>NaN</td>\n",
              "      <td>Virgin America</td>\n",
              "      <td>NaN</td>\n",
              "      <td>cairdin</td>\n",
              "      <td>NaN</td>\n",
              "      <td>0</td>\n",
              "      <td>@VirginAmerica What @dhepburn said.</td>\n",
              "      <td>NaN</td>\n",
              "      <td>2015-02-24 11:35:52 -0800</td>\n",
              "      <td>NaN</td>\n",
              "      <td>Eastern Time (US &amp; Canada)</td>\n",
              "    </tr>\n",
              "    <tr>\n",
              "      <th>1</th>\n",
              "      <td>570301130888122000</td>\n",
              "      <td>positive</td>\n",
              "      <td>0.3486</td>\n",
              "      <td>NaN</td>\n",
              "      <td>0.0000</td>\n",
              "      <td>Virgin America</td>\n",
              "      <td>NaN</td>\n",
              "      <td>jnardino</td>\n",
              "      <td>NaN</td>\n",
              "      <td>0</td>\n",
              "      <td>@VirginAmerica plus you've added commercials t...</td>\n",
              "      <td>NaN</td>\n",
              "      <td>2015-02-24 11:15:59 -0800</td>\n",
              "      <td>NaN</td>\n",
              "      <td>Pacific Time (US &amp; Canada)</td>\n",
              "    </tr>\n",
              "    <tr>\n",
              "      <th>2</th>\n",
              "      <td>570301083672813000</td>\n",
              "      <td>neutral</td>\n",
              "      <td>0.6837</td>\n",
              "      <td>NaN</td>\n",
              "      <td>NaN</td>\n",
              "      <td>Virgin America</td>\n",
              "      <td>NaN</td>\n",
              "      <td>yvonnalynn</td>\n",
              "      <td>NaN</td>\n",
              "      <td>0</td>\n",
              "      <td>@VirginAmerica I didn't today... Must mean I n...</td>\n",
              "      <td>NaN</td>\n",
              "      <td>2015-02-24 11:15:48 -0800</td>\n",
              "      <td>Lets Play</td>\n",
              "      <td>Central Time (US &amp; Canada)</td>\n",
              "    </tr>\n",
              "    <tr>\n",
              "      <th>3</th>\n",
              "      <td>570301031407624000</td>\n",
              "      <td>negative</td>\n",
              "      <td>1.0000</td>\n",
              "      <td>Bad Flight</td>\n",
              "      <td>0.7033</td>\n",
              "      <td>Virgin America</td>\n",
              "      <td>NaN</td>\n",
              "      <td>jnardino</td>\n",
              "      <td>NaN</td>\n",
              "      <td>0</td>\n",
              "      <td>@VirginAmerica it's really aggressive to blast...</td>\n",
              "      <td>NaN</td>\n",
              "      <td>2015-02-24 11:15:36 -0800</td>\n",
              "      <td>NaN</td>\n",
              "      <td>Pacific Time (US &amp; Canada)</td>\n",
              "    </tr>\n",
              "    <tr>\n",
              "      <th>4</th>\n",
              "      <td>570300817074462000</td>\n",
              "      <td>negative</td>\n",
              "      <td>1.0000</td>\n",
              "      <td>Can't Tell</td>\n",
              "      <td>1.0000</td>\n",
              "      <td>Virgin America</td>\n",
              "      <td>NaN</td>\n",
              "      <td>jnardino</td>\n",
              "      <td>NaN</td>\n",
              "      <td>0</td>\n",
              "      <td>@VirginAmerica and it's a really big bad thing...</td>\n",
              "      <td>NaN</td>\n",
              "      <td>2015-02-24 11:14:45 -0800</td>\n",
              "      <td>NaN</td>\n",
              "      <td>Pacific Time (US &amp; Canada)</td>\n",
              "    </tr>\n",
              "  </tbody>\n",
              "</table>\n",
              "</div>\n",
              "      <button class=\"colab-df-convert\" onclick=\"convertToInteractive('df-1148edbe-979b-427c-b1e1-fca779eec1fb')\"\n",
              "              title=\"Convert this dataframe to an interactive table.\"\n",
              "              style=\"display:none;\">\n",
              "        \n",
              "  <svg xmlns=\"http://www.w3.org/2000/svg\" height=\"24px\"viewBox=\"0 0 24 24\"\n",
              "       width=\"24px\">\n",
              "    <path d=\"M0 0h24v24H0V0z\" fill=\"none\"/>\n",
              "    <path d=\"M18.56 5.44l.94 2.06.94-2.06 2.06-.94-2.06-.94-.94-2.06-.94 2.06-2.06.94zm-11 1L8.5 8.5l.94-2.06 2.06-.94-2.06-.94L8.5 2.5l-.94 2.06-2.06.94zm10 10l.94 2.06.94-2.06 2.06-.94-2.06-.94-.94-2.06-.94 2.06-2.06.94z\"/><path d=\"M17.41 7.96l-1.37-1.37c-.4-.4-.92-.59-1.43-.59-.52 0-1.04.2-1.43.59L10.3 9.45l-7.72 7.72c-.78.78-.78 2.05 0 2.83L4 21.41c.39.39.9.59 1.41.59.51 0 1.02-.2 1.41-.59l7.78-7.78 2.81-2.81c.8-.78.8-2.07 0-2.86zM5.41 20L4 18.59l7.72-7.72 1.47 1.35L5.41 20z\"/>\n",
              "  </svg>\n",
              "      </button>\n",
              "      \n",
              "  <style>\n",
              "    .colab-df-container {\n",
              "      display:flex;\n",
              "      flex-wrap:wrap;\n",
              "      gap: 12px;\n",
              "    }\n",
              "\n",
              "    .colab-df-convert {\n",
              "      background-color: #E8F0FE;\n",
              "      border: none;\n",
              "      border-radius: 50%;\n",
              "      cursor: pointer;\n",
              "      display: none;\n",
              "      fill: #1967D2;\n",
              "      height: 32px;\n",
              "      padding: 0 0 0 0;\n",
              "      width: 32px;\n",
              "    }\n",
              "\n",
              "    .colab-df-convert:hover {\n",
              "      background-color: #E2EBFA;\n",
              "      box-shadow: 0px 1px 2px rgba(60, 64, 67, 0.3), 0px 1px 3px 1px rgba(60, 64, 67, 0.15);\n",
              "      fill: #174EA6;\n",
              "    }\n",
              "\n",
              "    [theme=dark] .colab-df-convert {\n",
              "      background-color: #3B4455;\n",
              "      fill: #D2E3FC;\n",
              "    }\n",
              "\n",
              "    [theme=dark] .colab-df-convert:hover {\n",
              "      background-color: #434B5C;\n",
              "      box-shadow: 0px 1px 3px 1px rgba(0, 0, 0, 0.15);\n",
              "      filter: drop-shadow(0px 1px 2px rgba(0, 0, 0, 0.3));\n",
              "      fill: #FFFFFF;\n",
              "    }\n",
              "  </style>\n",
              "\n",
              "      <script>\n",
              "        const buttonEl =\n",
              "          document.querySelector('#df-1148edbe-979b-427c-b1e1-fca779eec1fb button.colab-df-convert');\n",
              "        buttonEl.style.display =\n",
              "          google.colab.kernel.accessAllowed ? 'block' : 'none';\n",
              "\n",
              "        async function convertToInteractive(key) {\n",
              "          const element = document.querySelector('#df-1148edbe-979b-427c-b1e1-fca779eec1fb');\n",
              "          const dataTable =\n",
              "            await google.colab.kernel.invokeFunction('convertToInteractive',\n",
              "                                                     [key], {});\n",
              "          if (!dataTable) return;\n",
              "\n",
              "          const docLinkHtml = 'Like what you see? Visit the ' +\n",
              "            '<a target=\"_blank\" href=https://colab.research.google.com/notebooks/data_table.ipynb>data table notebook</a>'\n",
              "            + ' to learn more about interactive tables.';\n",
              "          element.innerHTML = '';\n",
              "          dataTable['output_type'] = 'display_data';\n",
              "          await google.colab.output.renderOutput(dataTable, element);\n",
              "          const docLink = document.createElement('div');\n",
              "          docLink.innerHTML = docLinkHtml;\n",
              "          element.appendChild(docLink);\n",
              "        }\n",
              "      </script>\n",
              "    </div>\n",
              "  </div>\n",
              "  "
            ],
            "text/plain": [
              "             tweet_id  ...               user_timezone\n",
              "0  570306133677760000  ...  Eastern Time (US & Canada)\n",
              "1  570301130888122000  ...  Pacific Time (US & Canada)\n",
              "2  570301083672813000  ...  Central Time (US & Canada)\n",
              "3  570301031407624000  ...  Pacific Time (US & Canada)\n",
              "4  570300817074462000  ...  Pacific Time (US & Canada)\n",
              "\n",
              "[5 rows x 15 columns]"
            ]
          },
          "metadata": {},
          "execution_count": 275
        }
      ]
    },
    {
      "cell_type": "code",
      "source": [
        "#number of rows and columns\n",
        "twitter_data.shape"
      ],
      "metadata": {
        "colab": {
          "base_uri": "https://localhost:8080/"
        },
        "id": "hviWCBT05uTo",
        "outputId": "a217f23f-e2b3-44f1-b53e-1e727394b453"
      },
      "execution_count": 276,
      "outputs": [
        {
          "output_type": "execute_result",
          "data": {
            "text/plain": [
              "(14640, 15)"
            ]
          },
          "metadata": {},
          "execution_count": 276
        }
      ]
    },
    {
      "cell_type": "code",
      "source": [
        "#displaying column names\n",
        "twitter_data.columns"
      ],
      "metadata": {
        "colab": {
          "base_uri": "https://localhost:8080/"
        },
        "id": "A1FJeIeZ5_Z8",
        "outputId": "1039217d-da1a-4448-cb88-61563a6b115c"
      },
      "execution_count": 277,
      "outputs": [
        {
          "output_type": "execute_result",
          "data": {
            "text/plain": [
              "Index(['tweet_id', 'airline_sentiment', 'airline_sentiment_confidence',\n",
              "       'negativereason', 'negativereason_confidence', 'airline',\n",
              "       'airline_sentiment_gold', 'name', 'negativereason_gold',\n",
              "       'retweet_count', 'text', 'tweet_coord', 'tweet_created',\n",
              "       'tweet_location', 'user_timezone'],\n",
              "      dtype='object')"
            ]
          },
          "metadata": {},
          "execution_count": 277
        }
      ]
    },
    {
      "cell_type": "code",
      "source": [
        "#information about the data frame\n",
        "twitter_data.info()"
      ],
      "metadata": {
        "colab": {
          "base_uri": "https://localhost:8080/"
        },
        "id": "tgo34ApO6Cku",
        "outputId": "626ba209-e371-41f5-b06b-a5c99ef6033e"
      },
      "execution_count": 278,
      "outputs": [
        {
          "output_type": "stream",
          "name": "stdout",
          "text": [
            "<class 'pandas.core.frame.DataFrame'>\n",
            "RangeIndex: 14640 entries, 0 to 14639\n",
            "Data columns (total 15 columns):\n",
            " #   Column                        Non-Null Count  Dtype  \n",
            "---  ------                        --------------  -----  \n",
            " 0   tweet_id                      14640 non-null  int64  \n",
            " 1   airline_sentiment             14640 non-null  object \n",
            " 2   airline_sentiment_confidence  14640 non-null  float64\n",
            " 3   negativereason                9178 non-null   object \n",
            " 4   negativereason_confidence     10522 non-null  float64\n",
            " 5   airline                       14640 non-null  object \n",
            " 6   airline_sentiment_gold        40 non-null     object \n",
            " 7   name                          14640 non-null  object \n",
            " 8   negativereason_gold           32 non-null     object \n",
            " 9   retweet_count                 14640 non-null  int64  \n",
            " 10  text                          14640 non-null  object \n",
            " 11  tweet_coord                   1019 non-null   object \n",
            " 12  tweet_created                 14640 non-null  object \n",
            " 13  tweet_location                9907 non-null   object \n",
            " 14  user_timezone                 9820 non-null   object \n",
            "dtypes: float64(2), int64(2), object(11)\n",
            "memory usage: 1.7+ MB\n"
          ]
        }
      ]
    },
    {
      "cell_type": "markdown",
      "source": [
        "### Displaying Unique values of the column"
      ],
      "metadata": {
        "id": "G0ARxrm1Utm3"
      }
    },
    {
      "cell_type": "code",
      "source": [
        "print(\"Airline_sentiment: \\n\",twitter_data[\"airline_sentiment\"].unique())\n",
        "print(\"negativereason:\\n\",twitter_data[\"negativereason\"].unique())\n",
        "print(\"airline:\\n\",twitter_data[\"airline\"].unique())\n",
        "print(\"airline_sentiment_gold  :\\n\",twitter_data[\"airline_sentiment_gold\"].unique())\n",
        "#print(\"name  :\\n\",twitter_data[\"name\"].unique())\n",
        "print(\"negativereason_gold: \\n\",twitter_data[\"negativereason_gold\"].unique())\n",
        "print(\"retweet_count: \\n\",twitter_data[\"retweet_count\"].unique())\n",
        "#print(\"text: \\n\",twitter_data[\"text\"].unique())\n",
        "print(\"tweet_created: \\n\",twitter_data[\"tweet_created\"].unique())\n",
        "print(\"tweet_location: \\n\",twitter_data[\"tweet_location\"].unique())\n",
        "print(\"user_timezone: \\n\",twitter_data[\"user_timezone\"].unique())\n",
        "#print(\"tweet_coord: \\n\",twitter_data[\"tweet_coord\"].unique())"
      ],
      "metadata": {
        "colab": {
          "base_uri": "https://localhost:8080/"
        },
        "id": "6k2QyVd26HVr",
        "outputId": "2bba565a-5803-40f9-e2d2-5758d7f4f11f"
      },
      "execution_count": 279,
      "outputs": [
        {
          "output_type": "stream",
          "name": "stdout",
          "text": [
            "Airline_sentiment: \n",
            " ['neutral' 'positive' 'negative']\n",
            "negativereason:\n",
            " [nan 'Bad Flight' \"Can't Tell\" 'Late Flight' 'Customer Service Issue'\n",
            " 'Flight Booking Problems' 'Lost Luggage' 'Flight Attendant Complaints'\n",
            " 'Cancelled Flight' 'Damaged Luggage' 'longlines']\n",
            "airline:\n",
            " ['Virgin America' 'United' 'Southwest' 'Delta' 'US Airways' 'American']\n",
            "airline_sentiment_gold  :\n",
            " [nan 'negative' 'neutral' 'positive']\n",
            "negativereason_gold: \n",
            " [nan 'Late Flight\\nFlight Attendant Complaints'\n",
            " 'Late Flight\\nLost Luggage' 'Late Flight' 'Customer Service Issue'\n",
            " \"Can't Tell\" 'Cancelled Flight\\nCustomer Service Issue'\n",
            " 'Cancelled Flight' 'Bad Flight' 'Lost Luggage\\nDamaged Luggage'\n",
            " 'Late Flight\\nCancelled Flight' 'Flight Attendant Complaints'\n",
            " 'Customer Service Issue\\nLost Luggage'\n",
            " \"Customer Service Issue\\nCan't Tell\"]\n",
            "retweet_count: \n",
            " [ 0  1  2  3  4  5  7 22  6 18 15 31 11  8  9 28 32 44]\n",
            "tweet_created: \n",
            " ['2015-02-24 11:35:52 -0800' '2015-02-24 11:15:59 -0800'\n",
            " '2015-02-24 11:15:48 -0800' ... '2015-02-22 11:59:15 -0800'\n",
            " '2015-02-22 11:59:02 -0800' '2015-02-22 11:58:51 -0800']\n",
            "tweet_location: \n",
            " [nan 'Lets Play' 'San Francisco CA' ... 'Columbus, OH, USA'\n",
            " 'Milwaukee County, Wisconsin' 'Nigeria,lagos']\n",
            "user_timezone: \n",
            " ['Eastern Time (US & Canada)' 'Pacific Time (US & Canada)'\n",
            " 'Central Time (US & Canada)' 'America/New_York' 'Atlantic Time (Canada)'\n",
            " 'Quito' nan 'Mountain Time (US & Canada)' 'Vienna' 'Caracas'\n",
            " 'Kuala Lumpur' 'Brisbane' 'Arizona' 'London' 'Tehran' 'Alaska' 'Sydney'\n",
            " 'Irkutsk' 'Santiago' 'Amsterdam' 'Tijuana' 'Abu Dhabi' 'Central America'\n",
            " 'Edinburgh' 'Jerusalem' 'Hawaii' 'Paris' 'Guam' 'New Delhi' 'Stockholm'\n",
            " 'America/Chicago' 'Berlin' 'Madrid' 'Athens' 'Brussels' 'Taipei' 'Rome'\n",
            " 'Beijing' 'Mexico City' 'Bern' 'Singapore' 'Indiana (East)' 'Melbourne'\n",
            " 'Saskatchewan' 'Casablanca' 'Brasilia' 'Kyiv' 'Bucharest' 'Greenland'\n",
            " 'Prague' 'New Caledonia' 'Bogota' 'Seoul' 'Sarajevo' 'Wellington'\n",
            " 'Bangkok' 'Warsaw' 'Copenhagen' 'Hong Kong' 'Guadalajara' 'Mid-Atlantic'\n",
            " 'Mazatlan' 'Buenos Aires' 'America/Los_Angeles' 'Dublin' 'Lisbon'\n",
            " 'Newfoundland' 'Monterrey' 'Tokyo' 'America/Detroit' 'Midway Island'\n",
            " 'Istanbul' 'Solomon Is.' 'America/Atikokan' 'Adelaide' 'Nairobi' 'EST'\n",
            " 'Lima' 'Islamabad' 'Helsinki' 'Pretoria' 'West Central Africa'\n",
            " 'America/Boise' 'Canberra' 'Perth' 'La Paz']\n"
          ]
        }
      ]
    },
    {
      "cell_type": "markdown",
      "source": [
        "### Count of null values for each column"
      ],
      "metadata": {
        "id": "VX2YvZmfU069"
      }
    },
    {
      "cell_type": "code",
      "source": [
        "twitter_data.isna().sum()"
      ],
      "metadata": {
        "colab": {
          "base_uri": "https://localhost:8080/"
        },
        "id": "YEDtbotE6SVf",
        "outputId": "2367d020-ee74-4a3f-933c-585317aa222d"
      },
      "execution_count": 280,
      "outputs": [
        {
          "output_type": "execute_result",
          "data": {
            "text/plain": [
              "tweet_id                            0\n",
              "airline_sentiment                   0\n",
              "airline_sentiment_confidence        0\n",
              "negativereason                   5462\n",
              "negativereason_confidence        4118\n",
              "airline                             0\n",
              "airline_sentiment_gold          14600\n",
              "name                                0\n",
              "negativereason_gold             14608\n",
              "retweet_count                       0\n",
              "text                                0\n",
              "tweet_coord                     13621\n",
              "tweet_created                       0\n",
              "tweet_location                   4733\n",
              "user_timezone                    4820\n",
              "dtype: int64"
            ]
          },
          "metadata": {},
          "execution_count": 280
        }
      ]
    },
    {
      "cell_type": "markdown",
      "source": [
        "### Converting the string data to numerical using label encoder, the text data is converted to numerical form."
      ],
      "metadata": {
        "id": "OgpoXzdsVkOT"
      }
    },
    {
      "cell_type": "code",
      "source": [
        "label_encoder = LabelEncoder()\n",
        "label_encoder.fit(twitter_data[\"airline_sentiment\"])\n",
        "twitter_data[\"airline_sentiment\"]= label_encoder.transform(twitter_data[\"airline_sentiment\"])\n",
        "label_encoder.fit(twitter_data[\"negativereason\"])\n",
        "twitter_data[\"negativereason\"]= label_encoder.transform(twitter_data[\"negativereason\"])\n",
        "label_encoder.fit(twitter_data[\"airline\"])\n",
        "twitter_data[\"airline\"]= label_encoder.transform(twitter_data[\"airline\"])\n",
        "label_encoder.fit(twitter_data[\"user_timezone\"])\n",
        "twitter_data[\"user_timezone\"]= label_encoder.transform(twitter_data[\"user_timezone\"])\n",
        "label_encoder.fit(twitter_data[\"tweet_location\"])\n",
        "twitter_data[\"tweet_location\"]= label_encoder.transform(twitter_data[\"tweet_location\"])\n",
        "label_encoder.fit(twitter_data[\"text\"])\n",
        "twitter_data[\"text\"]= label_encoder.transform(twitter_data[\"text\"])"
      ],
      "metadata": {
        "id": "BE3c7J5P8UBs"
      },
      "execution_count": 281,
      "outputs": []
    },
    {
      "cell_type": "markdown",
      "source": [
        "### Dropping the columns"
      ],
      "metadata": {
        "id": "9JK9A4F6WGVB"
      }
    },
    {
      "cell_type": "code",
      "source": [
        "twitter_data.drop(\"negativereason_gold\",axis=1,inplace=True)\n",
        "twitter_data.drop(\"airline_sentiment_gold\",axis=1,inplace=True)\n",
        "twitter_data.drop(\"tweet_coord\",axis=1,inplace=True)\n",
        "twitter_data.drop(\"name\",axis=1,inplace=True)\n",
        "twitter_data.drop(\"tweet_id\",axis=1, inplace=True)"
      ],
      "metadata": {
        "id": "kiH2b6b3Drt5"
      },
      "execution_count": 282,
      "outputs": []
    },
    {
      "cell_type": "code",
      "source": [
        "twitter_data.shape"
      ],
      "metadata": {
        "colab": {
          "base_uri": "https://localhost:8080/"
        },
        "id": "aTfJ4jugH3pQ",
        "outputId": "b6f913fd-fec7-4836-ba5b-605dd02dc7f2"
      },
      "execution_count": 283,
      "outputs": [
        {
          "output_type": "execute_result",
          "data": {
            "text/plain": [
              "(14640, 10)"
            ]
          },
          "metadata": {},
          "execution_count": 283
        }
      ]
    },
    {
      "cell_type": "markdown",
      "source": [
        "### converting the object column to datetime"
      ],
      "metadata": {
        "id": "GWvgUxu5WRT2"
      }
    },
    {
      "cell_type": "code",
      "source": [
        "twitter_data['tweet_created']= pd.to_datetime(twitter_data['tweet_created'])"
      ],
      "metadata": {
        "id": "PbeR7bNnH7Cy"
      },
      "execution_count": 284,
      "outputs": []
    },
    {
      "cell_type": "code",
      "source": [
        "twitter_data.tweet_created"
      ],
      "metadata": {
        "colab": {
          "base_uri": "https://localhost:8080/"
        },
        "id": "dHbyaH0XIZzE",
        "outputId": "ee28455c-3089-4713-e179-c8bb8cfac5e5"
      },
      "execution_count": 285,
      "outputs": [
        {
          "output_type": "execute_result",
          "data": {
            "text/plain": [
              "0       2015-02-24 11:35:52-08:00\n",
              "1       2015-02-24 11:15:59-08:00\n",
              "2       2015-02-24 11:15:48-08:00\n",
              "3       2015-02-24 11:15:36-08:00\n",
              "4       2015-02-24 11:14:45-08:00\n",
              "                   ...           \n",
              "14635   2015-02-22 12:01:01-08:00\n",
              "14636   2015-02-22 11:59:46-08:00\n",
              "14637   2015-02-22 11:59:15-08:00\n",
              "14638   2015-02-22 11:59:02-08:00\n",
              "14639   2015-02-22 11:58:51-08:00\n",
              "Name: tweet_created, Length: 14640, dtype: datetime64[ns, pytz.FixedOffset(-480)]"
            ]
          },
          "metadata": {},
          "execution_count": 285
        }
      ]
    },
    {
      "cell_type": "markdown",
      "source": [
        "### Seperating Day, Month, Year columns"
      ],
      "metadata": {
        "id": "y3p8iUfBWaiN"
      }
    },
    {
      "cell_type": "code",
      "source": [
        "twitter_data['day'] = twitter_data['tweet_created'].dt.day\n",
        "twitter_data['month'] = twitter_data['tweet_created'].dt.month\n",
        "twitter_data['year'] = twitter_data['tweet_created'].dt.year"
      ],
      "metadata": {
        "id": "jFjPCdqAJEwC"
      },
      "execution_count": 286,
      "outputs": []
    },
    {
      "cell_type": "markdown",
      "source": [
        "### Droping the original date column"
      ],
      "metadata": {
        "id": "SbxEPuZsWiW7"
      }
    },
    {
      "cell_type": "code",
      "source": [
        "twitter_data.drop(\"tweet_created\",axis=1,inplace=True)"
      ],
      "metadata": {
        "id": "6xl0cNWqKW4K"
      },
      "execution_count": 287,
      "outputs": []
    },
    {
      "cell_type": "code",
      "source": [
        "twitter_data.info()"
      ],
      "metadata": {
        "colab": {
          "base_uri": "https://localhost:8080/"
        },
        "id": "DrMPazwSKaT0",
        "outputId": "899bee14-5556-4552-acdf-5e31fad31e87"
      },
      "execution_count": 288,
      "outputs": [
        {
          "output_type": "stream",
          "name": "stdout",
          "text": [
            "<class 'pandas.core.frame.DataFrame'>\n",
            "RangeIndex: 14640 entries, 0 to 14639\n",
            "Data columns (total 12 columns):\n",
            " #   Column                        Non-Null Count  Dtype  \n",
            "---  ------                        --------------  -----  \n",
            " 0   airline_sentiment             14640 non-null  int64  \n",
            " 1   airline_sentiment_confidence  14640 non-null  float64\n",
            " 2   negativereason                14640 non-null  int64  \n",
            " 3   negativereason_confidence     10522 non-null  float64\n",
            " 4   airline                       14640 non-null  int64  \n",
            " 5   retweet_count                 14640 non-null  int64  \n",
            " 6   text                          14640 non-null  int64  \n",
            " 7   tweet_location                14640 non-null  int64  \n",
            " 8   user_timezone                 14640 non-null  int64  \n",
            " 9   day                           14640 non-null  int64  \n",
            " 10  month                         14640 non-null  int64  \n",
            " 11  year                          14640 non-null  int64  \n",
            "dtypes: float64(2), int64(10)\n",
            "memory usage: 1.3 MB\n"
          ]
        }
      ]
    },
    {
      "cell_type": "code",
      "source": [
        "twitter_data.info()"
      ],
      "metadata": {
        "colab": {
          "base_uri": "https://localhost:8080/"
        },
        "id": "8qPfsU5MK-2I",
        "outputId": "1151bf05-f2d6-4f0d-82e9-0c5154c473b2"
      },
      "execution_count": 289,
      "outputs": [
        {
          "output_type": "stream",
          "name": "stdout",
          "text": [
            "<class 'pandas.core.frame.DataFrame'>\n",
            "RangeIndex: 14640 entries, 0 to 14639\n",
            "Data columns (total 12 columns):\n",
            " #   Column                        Non-Null Count  Dtype  \n",
            "---  ------                        --------------  -----  \n",
            " 0   airline_sentiment             14640 non-null  int64  \n",
            " 1   airline_sentiment_confidence  14640 non-null  float64\n",
            " 2   negativereason                14640 non-null  int64  \n",
            " 3   negativereason_confidence     10522 non-null  float64\n",
            " 4   airline                       14640 non-null  int64  \n",
            " 5   retweet_count                 14640 non-null  int64  \n",
            " 6   text                          14640 non-null  int64  \n",
            " 7   tweet_location                14640 non-null  int64  \n",
            " 8   user_timezone                 14640 non-null  int64  \n",
            " 9   day                           14640 non-null  int64  \n",
            " 10  month                         14640 non-null  int64  \n",
            " 11  year                          14640 non-null  int64  \n",
            "dtypes: float64(2), int64(10)\n",
            "memory usage: 1.3 MB\n"
          ]
        }
      ]
    },
    {
      "cell_type": "markdown",
      "source": [
        "### Converting columns to float datatype"
      ],
      "metadata": {
        "id": "QvKJuNINW4T_"
      }
    },
    {
      "cell_type": "code",
      "source": [
        "twitter_data['airline_sentiment'] = twitter_data['airline_sentiment'].astype(float)\n",
        "twitter_data['negativereason'] = twitter_data['negativereason'].astype(float)\n",
        "twitter_data['airline_sentiment'] = twitter_data['airline_sentiment'].astype(float)\n",
        "twitter_data['retweet_count'] = twitter_data['retweet_count'].astype(float)\n",
        "twitter_data['text'] = twitter_data['text'].astype(float)\n",
        "twitter_data['tweet_location'] = twitter_data['tweet_location'].astype(float)\n",
        "twitter_data['user_timezone'] = twitter_data['user_timezone'].astype(float)\n",
        "twitter_data['day'] = twitter_data['day'].astype(float)\n",
        "twitter_data['month'] = twitter_data['month'].astype(float)\n",
        "twitter_data['year'] = twitter_data['year'].astype(float)\n",
        "twitter_data['airline'] = twitter_data['airline'].astype(float)"
      ],
      "metadata": {
        "id": "icTf-HidLxwS"
      },
      "execution_count": 290,
      "outputs": []
    },
    {
      "cell_type": "markdown",
      "source": [
        "### After cleaning the data displaying the information of the data frame"
      ],
      "metadata": {
        "id": "Yahg5H3EXANu"
      }
    },
    {
      "cell_type": "code",
      "source": [
        "twitter_data.info()"
      ],
      "metadata": {
        "colab": {
          "base_uri": "https://localhost:8080/"
        },
        "id": "GuOGRYcpL--0",
        "outputId": "22ea462c-f2f6-42ab-9310-fa2e02a52de6"
      },
      "execution_count": 291,
      "outputs": [
        {
          "output_type": "stream",
          "name": "stdout",
          "text": [
            "<class 'pandas.core.frame.DataFrame'>\n",
            "RangeIndex: 14640 entries, 0 to 14639\n",
            "Data columns (total 12 columns):\n",
            " #   Column                        Non-Null Count  Dtype  \n",
            "---  ------                        --------------  -----  \n",
            " 0   airline_sentiment             14640 non-null  float64\n",
            " 1   airline_sentiment_confidence  14640 non-null  float64\n",
            " 2   negativereason                14640 non-null  float64\n",
            " 3   negativereason_confidence     10522 non-null  float64\n",
            " 4   airline                       14640 non-null  float64\n",
            " 5   retweet_count                 14640 non-null  float64\n",
            " 6   text                          14640 non-null  float64\n",
            " 7   tweet_location                14640 non-null  float64\n",
            " 8   user_timezone                 14640 non-null  float64\n",
            " 9   day                           14640 non-null  float64\n",
            " 10  month                         14640 non-null  float64\n",
            " 11  year                          14640 non-null  float64\n",
            "dtypes: float64(12)\n",
            "memory usage: 1.3 MB\n"
          ]
        }
      ]
    },
    {
      "cell_type": "markdown",
      "source": [
        "### Spliting the data into input and output , features and target"
      ],
      "metadata": {
        "id": "BDnf-iP7W_WO"
      }
    },
    {
      "cell_type": "code",
      "source": [
        "twitter_features= twitter_data.drop(\"airline_sentiment\",axis=1)\n",
        "twitter_target =twitter_data.airline_sentiment"
      ],
      "metadata": {
        "id": "U-q6vQAAME3J"
      },
      "execution_count": 292,
      "outputs": []
    },
    {
      "cell_type": "code",
      "source": [
        "print(twitter_target.unique())  #1 is neutral, 2 is positive and 0 is negative"
      ],
      "metadata": {
        "colab": {
          "base_uri": "https://localhost:8080/"
        },
        "id": "pBvVA2kIQhB8",
        "outputId": "003a7990-b08e-4915-94a6-593c1adc48f0"
      },
      "execution_count": 293,
      "outputs": [
        {
          "output_type": "stream",
          "name": "stdout",
          "text": [
            "[1. 2. 0.]\n"
          ]
        }
      ]
    },
    {
      "cell_type": "markdown",
      "source": [
        "### Filling NaN with zeros"
      ],
      "metadata": {
        "id": "sfmwmUwQXWpC"
      }
    },
    {
      "cell_type": "code",
      "source": [
        "twitter_features=twitter_features.fillna(0)"
      ],
      "metadata": {
        "id": "B8jtLH9kONPi"
      },
      "execution_count": 294,
      "outputs": []
    },
    {
      "cell_type": "code",
      "source": [
        "twitter_features.head()"
      ],
      "metadata": {
        "colab": {
          "base_uri": "https://localhost:8080/",
          "height": 206
        },
        "id": "2RGvuyQJOXgl",
        "outputId": "f0dc4a1d-0dbf-4798-f578-d26410fa84f7"
      },
      "execution_count": 295,
      "outputs": [
        {
          "output_type": "execute_result",
          "data": {
            "text/html": [
              "\n",
              "  <div id=\"df-b4431123-15ea-4567-b45b-1fc49fc55298\">\n",
              "    <div class=\"colab-df-container\">\n",
              "      <div>\n",
              "<style scoped>\n",
              "    .dataframe tbody tr th:only-of-type {\n",
              "        vertical-align: middle;\n",
              "    }\n",
              "\n",
              "    .dataframe tbody tr th {\n",
              "        vertical-align: top;\n",
              "    }\n",
              "\n",
              "    .dataframe thead th {\n",
              "        text-align: right;\n",
              "    }\n",
              "</style>\n",
              "<table border=\"1\" class=\"dataframe\">\n",
              "  <thead>\n",
              "    <tr style=\"text-align: right;\">\n",
              "      <th></th>\n",
              "      <th>airline_sentiment_confidence</th>\n",
              "      <th>negativereason</th>\n",
              "      <th>negativereason_confidence</th>\n",
              "      <th>airline</th>\n",
              "      <th>retweet_count</th>\n",
              "      <th>text</th>\n",
              "      <th>tweet_location</th>\n",
              "      <th>user_timezone</th>\n",
              "      <th>day</th>\n",
              "      <th>month</th>\n",
              "      <th>year</th>\n",
              "    </tr>\n",
              "  </thead>\n",
              "  <tbody>\n",
              "    <tr>\n",
              "      <th>0</th>\n",
              "      <td>1.0000</td>\n",
              "      <td>10.0</td>\n",
              "      <td>0.0000</td>\n",
              "      <td>5.0</td>\n",
              "      <td>0.0</td>\n",
              "      <td>10006.0</td>\n",
              "      <td>3080.0</td>\n",
              "      <td>31.0</td>\n",
              "      <td>24.0</td>\n",
              "      <td>2.0</td>\n",
              "      <td>2015.0</td>\n",
              "    </tr>\n",
              "    <tr>\n",
              "      <th>1</th>\n",
              "      <td>0.3486</td>\n",
              "      <td>10.0</td>\n",
              "      <td>0.0000</td>\n",
              "      <td>5.0</td>\n",
              "      <td>0.0</td>\n",
              "      <td>10157.0</td>\n",
              "      <td>3080.0</td>\n",
              "      <td>62.0</td>\n",
              "      <td>24.0</td>\n",
              "      <td>2.0</td>\n",
              "      <td>2015.0</td>\n",
              "    </tr>\n",
              "    <tr>\n",
              "      <th>2</th>\n",
              "      <td>0.6837</td>\n",
              "      <td>10.0</td>\n",
              "      <td>0.0000</td>\n",
              "      <td>5.0</td>\n",
              "      <td>0.0</td>\n",
              "      <td>9905.0</td>\n",
              "      <td>1218.0</td>\n",
              "      <td>27.0</td>\n",
              "      <td>24.0</td>\n",
              "      <td>2.0</td>\n",
              "      <td>2015.0</td>\n",
              "    </tr>\n",
              "    <tr>\n",
              "      <th>3</th>\n",
              "      <td>1.0000</td>\n",
              "      <td>0.0</td>\n",
              "      <td>0.7033</td>\n",
              "      <td>5.0</td>\n",
              "      <td>0.0</td>\n",
              "      <td>10119.0</td>\n",
              "      <td>3080.0</td>\n",
              "      <td>62.0</td>\n",
              "      <td>24.0</td>\n",
              "      <td>2.0</td>\n",
              "      <td>2015.0</td>\n",
              "    </tr>\n",
              "    <tr>\n",
              "      <th>4</th>\n",
              "      <td>1.0000</td>\n",
              "      <td>1.0</td>\n",
              "      <td>1.0000</td>\n",
              "      <td>5.0</td>\n",
              "      <td>0.0</td>\n",
              "      <td>10034.0</td>\n",
              "      <td>3080.0</td>\n",
              "      <td>62.0</td>\n",
              "      <td>24.0</td>\n",
              "      <td>2.0</td>\n",
              "      <td>2015.0</td>\n",
              "    </tr>\n",
              "  </tbody>\n",
              "</table>\n",
              "</div>\n",
              "      <button class=\"colab-df-convert\" onclick=\"convertToInteractive('df-b4431123-15ea-4567-b45b-1fc49fc55298')\"\n",
              "              title=\"Convert this dataframe to an interactive table.\"\n",
              "              style=\"display:none;\">\n",
              "        \n",
              "  <svg xmlns=\"http://www.w3.org/2000/svg\" height=\"24px\"viewBox=\"0 0 24 24\"\n",
              "       width=\"24px\">\n",
              "    <path d=\"M0 0h24v24H0V0z\" fill=\"none\"/>\n",
              "    <path d=\"M18.56 5.44l.94 2.06.94-2.06 2.06-.94-2.06-.94-.94-2.06-.94 2.06-2.06.94zm-11 1L8.5 8.5l.94-2.06 2.06-.94-2.06-.94L8.5 2.5l-.94 2.06-2.06.94zm10 10l.94 2.06.94-2.06 2.06-.94-2.06-.94-.94-2.06-.94 2.06-2.06.94z\"/><path d=\"M17.41 7.96l-1.37-1.37c-.4-.4-.92-.59-1.43-.59-.52 0-1.04.2-1.43.59L10.3 9.45l-7.72 7.72c-.78.78-.78 2.05 0 2.83L4 21.41c.39.39.9.59 1.41.59.51 0 1.02-.2 1.41-.59l7.78-7.78 2.81-2.81c.8-.78.8-2.07 0-2.86zM5.41 20L4 18.59l7.72-7.72 1.47 1.35L5.41 20z\"/>\n",
              "  </svg>\n",
              "      </button>\n",
              "      \n",
              "  <style>\n",
              "    .colab-df-container {\n",
              "      display:flex;\n",
              "      flex-wrap:wrap;\n",
              "      gap: 12px;\n",
              "    }\n",
              "\n",
              "    .colab-df-convert {\n",
              "      background-color: #E8F0FE;\n",
              "      border: none;\n",
              "      border-radius: 50%;\n",
              "      cursor: pointer;\n",
              "      display: none;\n",
              "      fill: #1967D2;\n",
              "      height: 32px;\n",
              "      padding: 0 0 0 0;\n",
              "      width: 32px;\n",
              "    }\n",
              "\n",
              "    .colab-df-convert:hover {\n",
              "      background-color: #E2EBFA;\n",
              "      box-shadow: 0px 1px 2px rgba(60, 64, 67, 0.3), 0px 1px 3px 1px rgba(60, 64, 67, 0.15);\n",
              "      fill: #174EA6;\n",
              "    }\n",
              "\n",
              "    [theme=dark] .colab-df-convert {\n",
              "      background-color: #3B4455;\n",
              "      fill: #D2E3FC;\n",
              "    }\n",
              "\n",
              "    [theme=dark] .colab-df-convert:hover {\n",
              "      background-color: #434B5C;\n",
              "      box-shadow: 0px 1px 3px 1px rgba(0, 0, 0, 0.15);\n",
              "      filter: drop-shadow(0px 1px 2px rgba(0, 0, 0, 0.3));\n",
              "      fill: #FFFFFF;\n",
              "    }\n",
              "  </style>\n",
              "\n",
              "      <script>\n",
              "        const buttonEl =\n",
              "          document.querySelector('#df-b4431123-15ea-4567-b45b-1fc49fc55298 button.colab-df-convert');\n",
              "        buttonEl.style.display =\n",
              "          google.colab.kernel.accessAllowed ? 'block' : 'none';\n",
              "\n",
              "        async function convertToInteractive(key) {\n",
              "          const element = document.querySelector('#df-b4431123-15ea-4567-b45b-1fc49fc55298');\n",
              "          const dataTable =\n",
              "            await google.colab.kernel.invokeFunction('convertToInteractive',\n",
              "                                                     [key], {});\n",
              "          if (!dataTable) return;\n",
              "\n",
              "          const docLinkHtml = 'Like what you see? Visit the ' +\n",
              "            '<a target=\"_blank\" href=https://colab.research.google.com/notebooks/data_table.ipynb>data table notebook</a>'\n",
              "            + ' to learn more about interactive tables.';\n",
              "          element.innerHTML = '';\n",
              "          dataTable['output_type'] = 'display_data';\n",
              "          await google.colab.output.renderOutput(dataTable, element);\n",
              "          const docLink = document.createElement('div');\n",
              "          docLink.innerHTML = docLinkHtml;\n",
              "          element.appendChild(docLink);\n",
              "        }\n",
              "      </script>\n",
              "    </div>\n",
              "  </div>\n",
              "  "
            ],
            "text/plain": [
              "   airline_sentiment_confidence  negativereason  ...  month    year\n",
              "0                        1.0000            10.0  ...    2.0  2015.0\n",
              "1                        0.3486            10.0  ...    2.0  2015.0\n",
              "2                        0.6837            10.0  ...    2.0  2015.0\n",
              "3                        1.0000             0.0  ...    2.0  2015.0\n",
              "4                        1.0000             1.0  ...    2.0  2015.0\n",
              "\n",
              "[5 rows x 11 columns]"
            ]
          },
          "metadata": {},
          "execution_count": 295
        }
      ]
    },
    {
      "cell_type": "markdown",
      "source": [
        "### Spliting the dataset into trai and test data"
      ],
      "metadata": {
        "id": "dV9S-gZ4XbwR"
      }
    },
    {
      "cell_type": "code",
      "source": [
        "trainx,testx,trainy,testy=train_test_split(twitter_features,twitter_target,test_size=0.3,random_state=40)"
      ],
      "metadata": {
        "id": "s6zMG0TbOdqL"
      },
      "execution_count": 296,
      "outputs": []
    },
    {
      "cell_type": "markdown",
      "source": [
        "### Randomforest classifier algorithm"
      ],
      "metadata": {
        "id": "YMVebuMtYSur"
      }
    },
    {
      "cell_type": "code",
      "source": [
        "r_model=RandomForestClassifier()\n",
        "r_model.fit(trainx,trainy)"
      ],
      "metadata": {
        "colab": {
          "base_uri": "https://localhost:8080/"
        },
        "id": "XvUhuPxPQRiY",
        "outputId": "0a789dd6-caf4-4a54-97ff-0d64433e782a"
      },
      "execution_count": 297,
      "outputs": [
        {
          "output_type": "execute_result",
          "data": {
            "text/plain": [
              "RandomForestClassifier()"
            ]
          },
          "metadata": {},
          "execution_count": 297
        }
      ]
    },
    {
      "cell_type": "code",
      "source": [
        "y_predict=r_model.predict(testx)"
      ],
      "metadata": {
        "id": "C2Aq0cQaSeWS"
      },
      "execution_count": 298,
      "outputs": []
    },
    {
      "cell_type": "markdown",
      "source": [
        "### Confusion metrics"
      ],
      "metadata": {
        "id": "ZK7t82v4YwjK"
      }
    },
    {
      "cell_type": "code",
      "source": [
        "r_cm = confusion_matrix(y_predict, testy)\n",
        "r_cm"
      ],
      "metadata": {
        "colab": {
          "base_uri": "https://localhost:8080/"
        },
        "id": "63qNrXy_ShOl",
        "outputId": "42937e3e-569a-4b4d-f71f-4e255d774e13"
      },
      "execution_count": 299,
      "outputs": [
        {
          "output_type": "execute_result",
          "data": {
            "text/plain": [
              "array([[2781,    0,    0],\n",
              "       [   0,  680,  345],\n",
              "       [   0,  269,  317]])"
            ]
          },
          "metadata": {},
          "execution_count": 299
        }
      ]
    },
    {
      "cell_type": "markdown",
      "source": [
        "### Test and train acuuracy "
      ],
      "metadata": {
        "id": "FHp8FCHVYXtD"
      }
    },
    {
      "cell_type": "code",
      "source": [
        "print(\"test_accuracy\",np.round(accuracy_score(y_predict, testy)*100,2),\"%\")\n",
        "print(\"train_accuracy\",np.round(accuracy_score(lr_model.predict(trainx), trainy)*100,2),\"%\")"
      ],
      "metadata": {
        "colab": {
          "base_uri": "https://localhost:8080/"
        },
        "id": "RrcTTJ2ySjqW",
        "outputId": "b43a3dfc-3907-4289-82f2-f7c855af8e2d"
      },
      "execution_count": 300,
      "outputs": [
        {
          "output_type": "stream",
          "name": "stdout",
          "text": [
            "test_accuracy 86.02 %\n",
            "train_accuracy 99.98 %\n"
          ]
        }
      ]
    },
    {
      "cell_type": "markdown",
      "source": [
        "### Decision tree classifier"
      ],
      "metadata": {
        "id": "AySuNgw2Yr6S"
      }
    },
    {
      "cell_type": "code",
      "source": [
        "dt_model1=DecisionTreeClassifier()\n",
        "dt_model1.fit(trainx,trainy)"
      ],
      "metadata": {
        "colab": {
          "base_uri": "https://localhost:8080/"
        },
        "id": "7S7i9kzoSmuW",
        "outputId": "3e468dc5-6544-48e2-f892-44f7d171fdb2"
      },
      "execution_count": 301,
      "outputs": [
        {
          "output_type": "execute_result",
          "data": {
            "text/plain": [
              "DecisionTreeClassifier()"
            ]
          },
          "metadata": {},
          "execution_count": 301
        }
      ]
    },
    {
      "cell_type": "code",
      "source": [
        "y_predict=dt_model1.predict(testx)"
      ],
      "metadata": {
        "id": "G4dX_WXpTFah"
      },
      "execution_count": 302,
      "outputs": []
    },
    {
      "cell_type": "markdown",
      "source": [
        "### Confusion metrics"
      ],
      "metadata": {
        "id": "7WyJOeS3Y3f9"
      }
    },
    {
      "cell_type": "code",
      "source": [
        "dt_cm = confusion_matrix(y_predict, testy)\n",
        "dt_cm"
      ],
      "metadata": {
        "colab": {
          "base_uri": "https://localhost:8080/"
        },
        "id": "hhO1bfYoTOiB",
        "outputId": "b69eb21b-1666-4126-d460-b80c3bf65579"
      },
      "execution_count": 303,
      "outputs": [
        {
          "output_type": "execute_result",
          "data": {
            "text/plain": [
              "array([[2781,    0,    0],\n",
              "       [   0,  566,  298],\n",
              "       [   0,  383,  364]])"
            ]
          },
          "metadata": {},
          "execution_count": 303
        }
      ]
    },
    {
      "cell_type": "markdown",
      "source": [
        "### Test and train accuracy"
      ],
      "metadata": {
        "id": "YZAzs-6UY6Rt"
      }
    },
    {
      "cell_type": "code",
      "source": [
        "print(\"test_accuracy\",np.round(accuracy_score(y_predict, testy)*100,2),\"%\")\n",
        "print(\"train_accuracy\",np.round(accuracy_score(lr_model.predict(trainx), trainy)*100,2),\"%\")"
      ],
      "metadata": {
        "colab": {
          "base_uri": "https://localhost:8080/"
        },
        "id": "PaOYVdtOTQYo",
        "outputId": "68cf0f8b-3adb-4774-b9ae-dab0cd48eac5"
      },
      "execution_count": 304,
      "outputs": [
        {
          "output_type": "stream",
          "name": "stdout",
          "text": [
            "test_accuracy 84.49 %\n",
            "train_accuracy 99.98 %\n"
          ]
        }
      ]
    }
  ]
}